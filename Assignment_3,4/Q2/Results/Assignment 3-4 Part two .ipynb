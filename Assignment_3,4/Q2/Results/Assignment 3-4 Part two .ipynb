{
 "cells": [
  {
   "cell_type": "code",
   "execution_count": 2,
   "id": "b245f63b",
   "metadata": {},
   "outputs": [
    {
     "name": "stdout",
     "output_type": "stream",
     "text": [
      "Requirement already satisfied: requests in /Users/harsh/Apps/anaconda3/lib/python3.10/site-packages (2.28.1)\n",
      "Requirement already satisfied: dash in /Users/harsh/Apps/anaconda3/lib/python3.10/site-packages (2.16.1)\n",
      "Requirement already satisfied: urllib3<1.27,>=1.21.1 in /Users/harsh/Apps/anaconda3/lib/python3.10/site-packages (from requests) (1.26.14)\n",
      "Requirement already satisfied: certifi>=2017.4.17 in /Users/harsh/Apps/anaconda3/lib/python3.10/site-packages (from requests) (2022.12.7)\n",
      "Requirement already satisfied: idna<4,>=2.5 in /Users/harsh/Apps/anaconda3/lib/python3.10/site-packages (from requests) (3.4)\n",
      "Requirement already satisfied: charset-normalizer<3,>=2 in /Users/harsh/Apps/anaconda3/lib/python3.10/site-packages (from requests) (2.0.4)\n",
      "Requirement already satisfied: dash-html-components==2.0.0 in /Users/harsh/Apps/anaconda3/lib/python3.10/site-packages (from dash) (2.0.0)\n",
      "Requirement already satisfied: typing-extensions>=4.1.1 in /Users/harsh/Apps/anaconda3/lib/python3.10/site-packages (from dash) (4.4.0)\n",
      "Requirement already satisfied: dash-core-components==2.0.0 in /Users/harsh/Apps/anaconda3/lib/python3.10/site-packages (from dash) (2.0.0)\n",
      "Requirement already satisfied: plotly>=5.0.0 in /Users/harsh/Apps/anaconda3/lib/python3.10/site-packages (from dash) (5.9.0)\n",
      "Requirement already satisfied: importlib-metadata in /Users/harsh/Apps/anaconda3/lib/python3.10/site-packages (from dash) (4.11.3)\n",
      "Requirement already satisfied: retrying in /Users/harsh/Apps/anaconda3/lib/python3.10/site-packages (from dash) (1.3.4)\n",
      "Requirement already satisfied: nest-asyncio in /Users/harsh/Apps/anaconda3/lib/python3.10/site-packages (from dash) (1.5.6)\n",
      "Requirement already satisfied: Werkzeug<3.1 in /Users/harsh/Apps/anaconda3/lib/python3.10/site-packages (from dash) (2.2.2)\n",
      "Requirement already satisfied: dash-table==5.0.0 in /Users/harsh/Apps/anaconda3/lib/python3.10/site-packages (from dash) (5.0.0)\n",
      "Requirement already satisfied: setuptools in /Users/harsh/Apps/anaconda3/lib/python3.10/site-packages (from dash) (65.6.3)\n",
      "Requirement already satisfied: Flask<3.1,>=1.0.4 in /Users/harsh/Apps/anaconda3/lib/python3.10/site-packages (from dash) (2.2.2)\n",
      "Requirement already satisfied: click>=8.0 in /Users/harsh/Apps/anaconda3/lib/python3.10/site-packages (from Flask<3.1,>=1.0.4->dash) (8.0.4)\n",
      "Requirement already satisfied: itsdangerous>=2.0 in /Users/harsh/Apps/anaconda3/lib/python3.10/site-packages (from Flask<3.1,>=1.0.4->dash) (2.0.1)\n",
      "Requirement already satisfied: Jinja2>=3.0 in /Users/harsh/Apps/anaconda3/lib/python3.10/site-packages (from Flask<3.1,>=1.0.4->dash) (3.1.2)\n",
      "Requirement already satisfied: tenacity>=6.2.0 in /Users/harsh/Apps/anaconda3/lib/python3.10/site-packages (from plotly>=5.0.0->dash) (8.0.1)\n",
      "Requirement already satisfied: MarkupSafe>=2.1.1 in /Users/harsh/Apps/anaconda3/lib/python3.10/site-packages (from Werkzeug<3.1->dash) (2.1.1)\n",
      "Requirement already satisfied: zipp>=0.5 in /Users/harsh/Apps/anaconda3/lib/python3.10/site-packages (from importlib-metadata->dash) (3.11.0)\n",
      "Requirement already satisfied: six>=1.7.0 in /Users/harsh/Apps/anaconda3/lib/python3.10/site-packages (from retrying->dash) (1.16.0)\n",
      "Note: you may need to restart the kernel to use updated packages.\n"
     ]
    }
   ],
   "source": [
    "pip install requests dash"
   ]
  },
  {
   "cell_type": "code",
   "execution_count": 5,
   "id": "ec006d46",
   "metadata": {},
   "outputs": [
    {
     "data": {
      "text/html": [
       "\n",
       "        <iframe\n",
       "            width=\"100%\"\n",
       "            height=\"650\"\n",
       "            src=\"http://127.0.0.1:8050/\"\n",
       "            frameborder=\"0\"\n",
       "            allowfullscreen\n",
       "            \n",
       "        ></iframe>\n",
       "        "
      ],
      "text/plain": [
       "<IPython.lib.display.IFrame at 0x1090fad70>"
      ]
     },
     "metadata": {},
     "output_type": "display_data"
    }
   ],
   "source": [
    "import requests\n",
    "import dash\n",
    "from dash import dcc, html\n",
    "from dash.dependencies import Input, Output\n",
    "\n",
    "# Start the Dash application\n",
    "application = dash.Dash(__name__)\n",
    "\n",
    "# Set up the API access parameters\n",
    "API_ACCESS_KEY = \"e28ce1fa755c967f48ce869fcc78d2d3\"\n",
    "FIXER_IO_URL = \"http://data.fixer.io/api/latest\"\n",
    "REQUEST_PARAMS = {\"access_key\": API_ACCESS_KEY}\n",
    "\n",
    "# Function to retrieve currency data from the API\n",
    "def get_currency_data():\n",
    "    try:\n",
    "        api_response = requests.get(FIXER_IO_URL, params=REQUEST_PARAMS)\n",
    "        exchange_data = api_response.json()\n",
    "        return exchange_data\n",
    "    except Exception as error:\n",
    "        print(\"Error occurred during data retrieval:\", error)\n",
    "        return None\n",
    "\n",
    "# Define the layout of the Dash application\n",
    "application.layout = html.Div([\n",
    "    html.H1(\"Live Currency Exchange Rates\"),\n",
    "    html.Div(id='currency-rate-display'),\n",
    "    dcc.Interval(\n",
    "        id='update-interval',\n",
    "        interval=10*1000,  # Milliseconds\n",
    "        n_intervals=0\n",
    "    )\n",
    "])\n",
    "\n",
    "# Callback to update the displayed rates every 10 seconds\n",
    "@application.callback(Output('currency-rate-display', 'children'),\n",
    "                      [Input('update-interval', 'n_intervals')])\n",
    "def refresh_currency_display(n):\n",
    "    retrieved_data = get_currency_data()\n",
    "    if retrieved_data:\n",
    "        current_rates = retrieved_data.get('rates')\n",
    "        if current_rates:\n",
    "            return html.Div([\n",
    "                html.P(f\"{currency}: {rate}\") for currency, rate in current_rates.items()\n",
    "            ])\n",
    "        return \"Currency data is not available at this time.\"\n",
    "    return \"Unable to fetch data. Please verify API access and network connectivity.\"\n",
    "\n",
    "\n",
    "if __name__ == '__main__':\n",
    "    application.run_server(debug=True, use_reloader=False)\n"
   ]
  },
  {
   "cell_type": "code",
   "execution_count": null,
   "id": "86de247e",
   "metadata": {},
   "outputs": [],
   "source": []
  },
  {
   "cell_type": "code",
   "execution_count": null,
   "id": "200cabf3",
   "metadata": {},
   "outputs": [],
   "source": []
  }
 ],
 "metadata": {
  "kernelspec": {
   "display_name": "Python 3 (ipykernel)",
   "language": "python",
   "name": "python3"
  },
  "language_info": {
   "codemirror_mode": {
    "name": "ipython",
    "version": 3
   },
   "file_extension": ".py",
   "mimetype": "text/x-python",
   "name": "python",
   "nbconvert_exporter": "python",
   "pygments_lexer": "ipython3",
   "version": "3.10.9"
  }
 },
 "nbformat": 4,
 "nbformat_minor": 5
}
