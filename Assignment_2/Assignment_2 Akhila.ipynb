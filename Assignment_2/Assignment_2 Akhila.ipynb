{
  "nbformat": 4,
  "nbformat_minor": 0,
  "metadata": {
    "colab": {
      "provenance": []
    },
    "kernelspec": {
      "name": "python3",
      "display_name": "Python 3"
    },
    "language_info": {
      "name": "python"
    }
  },
  "cells": [
    {
      "cell_type": "code",
      "source": [
        "import pandas as pd\n",
        "from datetime import datetime\n",
        "\n",
        "# Load the dataset\n",
        "data = pd.read_csv(\"/content/sample_data/train.csv\")"
      ],
      "metadata": {
        "id": "QEggDChoBl8q"
      },
      "execution_count": 67,
      "outputs": []
    },
    {
      "cell_type": "code",
      "source": [
        "# Check the column names\n",
        "print(data.columns)"
      ],
      "metadata": {
        "colab": {
          "base_uri": "https://localhost:8080/"
        },
        "id": "oStIdQwiBu9T",
        "outputId": "65d0aa87-16df-449a-d049-9f5e8993206a"
      },
      "execution_count": 68,
      "outputs": [
        {
          "output_type": "stream",
          "name": "stdout",
          "text": [
            "Index(['Unnamed: 0', 'Name', 'Location', 'Year', 'Kilometers_Driven',\n",
            "       'Fuel_Type', 'Transmission', 'Owner_Type', 'Mileage', 'Engine', 'Power',\n",
            "       'Seats', 'New_Price', 'Price'],\n",
            "      dtype='object')\n"
          ]
        }
      ]
    },
    {
      "cell_type": "code",
      "source": [
        "# a) Handling missing values\n",
        "# Look for missing values in all columns\n",
        "missing_values = data.isnull().sum()\n",
        "\n",
        "# Decide whether to impute or drop missing values based on the proportion of missing values\n",
        "# If missing values are less than 5% of the total entries in a column, impute with mean, median, or mode\n",
        "# Otherwise, drop the column\n",
        "for col in data.columns:\n",
        "    if missing_values[col] < 0.05 * len(data):\n",
        "        if data[col].dtype == 'object':\n",
        "            mode_val = data[col].mode()[0]\n",
        "            data[col].fillna(mode_val, inplace=True)\n",
        "        else:\n",
        "            mean_val = data[col].mean()\n",
        "            data[col].fillna(mean_val, inplace=True)\n",
        "    else:\n",
        "        data.drop(columns=[col], inplace=True)\n",
        "\n",
        "# b) Removing units from attributes\n",
        "data['Mileage'] = data['Mileage'].str.replace(' kmpl', '').str.replace(' km/kg', '')\n",
        "data['Engine'] = data['Engine'].str.replace(' CC', '')\n",
        "data['Power'] = data['Power'].str.replace(' bhp', '')\n",
        "\n",
        "# c) Changing categorical variables into numerical one hot encoded value\n",
        "data = pd.get_dummies(data, columns=['Fuel_Type', 'Transmission'])\n",
        "\n",
        "# d) Creating a new feature - Current Age of the car\n",
        "current_year = datetime.now().year\n",
        "data['Current_Age'] = current_year - data['Year']\n",
        "\n",
        "# e) Performing select, filter, rename, mutate, arrange, and summarize operations\n",
        "# Select operation - selecting specific columns\n",
        "selected_data = data[['Name', 'Location', 'Year', 'Mileage', 'Fuel_Type_Diesel', 'Fuel_Type_Petrol', 'Transmission_Automatic', 'Transmission_Manual', 'Price']]\n",
        "\n",
        "# Filter operation - filtering cars with price greater than 50\n",
        "filtered_data = data[data['Price'] > 50]\n",
        "\n",
        "# Rename operation - renaming columns\n",
        "renamed_data = data.rename(columns={'Year': 'Manufacture_Year', 'Price': 'Price_in_Lakhs'})\n",
        "\n",
        "# Mutate operation - adding a new column for the value of 'Engine + Power'\n",
        "data['Engine_Power'] = data['Engine'] + data['Power']\n",
        "\n",
        "# Arrange operation - sorting data based on 'Current_Age' in descending order\n",
        "arranged_data = data.sort_values(by='Current_Age', ascending=False)\n",
        "\n",
        "# Summarize with group by operation - calculating mean price for each fuel type\n",
        "summary_data = data.groupby('Fuel_Type_Petrol')['Price'].mean().reset_index()\n",
        "\n",
        "# Displaying the summary statistics\n",
        "print(\"Summary Statistics:\")\n",
        "print(summary_data)\n",
        "\n",
        "# Displaying the modified dataset\n",
        "print(\"Modified Dataset:\")\n",
        "print(data.head(15))"
      ],
      "metadata": {
        "colab": {
          "base_uri": "https://localhost:8080/"
        },
        "id": "sCmZQbI6ExY5",
        "outputId": "6dfc9cea-1a6d-4b72-c758-6d07a2208ace"
      },
      "execution_count": 69,
      "outputs": [
        {
          "output_type": "stream",
          "name": "stdout",
          "text": [
            "Summary Statistics:\n",
            "   Fuel_Type_Petrol      Price\n",
            "0                 0  12.960632\n",
            "1                 1   5.756688\n",
            "Modified Dataset:\n",
            "    Unnamed: 0                                 Name    Location  Year  \\\n",
            "0            1     Hyundai Creta 1.6 CRDi SX Option        Pune  2015   \n",
            "1            2                         Honda Jazz V     Chennai  2011   \n",
            "2            3                    Maruti Ertiga VDI     Chennai  2012   \n",
            "3            4      Audi A4 New 2.0 TDI Multitronic  Coimbatore  2013   \n",
            "4            6               Nissan Micra Diesel XV      Jaipur  2013   \n",
            "5            7    Toyota Innova Crysta 2.8 GX AT 8S      Mumbai  2016   \n",
            "6            8  Volkswagen Vento Diesel Comfortline        Pune  2013   \n",
            "7            9       Tata Indica Vista Quadrajet LS     Chennai  2012   \n",
            "8           10                     Maruti Ciaz Zeta       Kochi  2018   \n",
            "9           11          Honda City 1.5 V AT Sunroof     Kolkata  2012   \n",
            "10          12                Maruti Swift VDI BSIV      Jaipur  2015   \n",
            "11          13     Land Rover Range Rover 2.2L Pure       Delhi  2014   \n",
            "12          14       Land Rover Freelander 2 TD4 SE        Pune  2012   \n",
            "13          15          Mitsubishi Pajero Sport 4X4       Delhi  2014   \n",
            "14          16                Honda Amaze S i-Dtech       Kochi  2016   \n",
            "\n",
            "    Kilometers_Driven Owner_Type Mileage Engine   Power  Seats  Price  \\\n",
            "0               41000      First   19.67   1582   126.2    5.0  12.50   \n",
            "1               46000      First      13   1199    88.7    5.0   4.50   \n",
            "2               87000      First   20.77   1248   88.76    7.0   6.00   \n",
            "3               40670     Second    15.2   1968   140.8    5.0  17.74   \n",
            "4               86999      First   23.08   1461    63.1    5.0   3.50   \n",
            "5               36000      First   11.36   2755   171.5    8.0  17.50   \n",
            "6               64430      First   20.54   1598   103.6    5.0   5.20   \n",
            "7               65932     Second    22.3   1248      74    5.0   1.95   \n",
            "8               25692      First   21.56   1462  103.25    5.0   9.95   \n",
            "9               60000      First    16.8   1497   116.3    5.0   4.49   \n",
            "10              64424      First    25.2   1248      74    5.0   5.60   \n",
            "11              72000      First    12.7   2179   187.7    5.0  27.00   \n",
            "12              85000     Second     0.0   2179     115    5.0  17.50   \n",
            "13             110000      First    13.5   2477  175.56    7.0  15.00   \n",
            "14              58950      First    25.8   1498    98.6    5.0   5.40   \n",
            "\n",
            "    Fuel_Type_Diesel  Fuel_Type_Electric  Fuel_Type_Petrol  \\\n",
            "0                  1                   0                 0   \n",
            "1                  0                   0                 1   \n",
            "2                  1                   0                 0   \n",
            "3                  1                   0                 0   \n",
            "4                  1                   0                 0   \n",
            "5                  1                   0                 0   \n",
            "6                  1                   0                 0   \n",
            "7                  1                   0                 0   \n",
            "8                  0                   0                 1   \n",
            "9                  0                   0                 1   \n",
            "10                 1                   0                 0   \n",
            "11                 1                   0                 0   \n",
            "12                 1                   0                 0   \n",
            "13                 1                   0                 0   \n",
            "14                 1                   0                 0   \n",
            "\n",
            "    Transmission_Automatic  Transmission_Manual  Current_Age Engine_Power  \n",
            "0                        0                    1            9    1582126.2  \n",
            "1                        0                    1           13     119988.7  \n",
            "2                        0                    1           12    124888.76  \n",
            "3                        1                    0           11    1968140.8  \n",
            "4                        0                    1           11     146163.1  \n",
            "5                        1                    0            8    2755171.5  \n",
            "6                        0                    1           11    1598103.6  \n",
            "7                        0                    1           12       124874  \n",
            "8                        0                    1            6   1462103.25  \n",
            "9                        1                    0           12    1497116.3  \n",
            "10                       0                    1            9       124874  \n",
            "11                       1                    0           10    2179187.7  \n",
            "12                       1                    0           12      2179115  \n",
            "13                       0                    1           10   2477175.56  \n",
            "14                       0                    1            8     149898.6  \n"
          ]
        }
      ]
    }
  ]
}